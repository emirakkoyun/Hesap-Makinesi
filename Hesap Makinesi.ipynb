{
 "cells": [
  {
   "cell_type": "code",
   "execution_count": null,
   "id": "43a97965",
   "metadata": {},
   "outputs": [],
   "source": [
    "print(\"\"\"\n",
    "\n",
    "HESAP MAKİNESİ\n",
    "\n",
    "TOPLAMA İŞLEMİ YAPMAK İÇİN 1 'e BASIN.\n",
    "ÇIKARMA İŞLEMİ YAPMAK İÇİN 2 'e BASIN.\n",
    "ÇARPMA İŞLEMİ  YAPMAK İÇİN 3 'e BASIN.\n",
    "BÖLME İŞLEMİ   YAPMAK İÇİN 4 'e BASIN.\n",
    "\n",
    "\"\"\")\n",
    "\n",
    "islem = str(input(\"İşlem seçiniz: \"))\n",
    "\n",
    "if islem == \"1\":\n",
    "    sayi1 = int(input(\"sayi1 giriniz: \"))\n",
    "    sayi2 = int(input(\"sayi2 giriniz: \"))\n",
    "    print(\"Sonuç:\", sayi1 + sayi2)\n",
    "elif islem == \"2\":\n",
    "    sayi1 = int(input(\"sayi1 giriniz: \"))\n",
    "    sayi2 = int(input(\"sayi2 giriniz: \"))\n",
    "    print(\"Sonuç:\", sayi1 - sayi2)\n",
    "elif islem == \"3\":\n",
    "    sayi1 = int(input(\"sayi1 giriniz: \"))\n",
    "    sayi2 = int(input(\"sayi2 giriniz: \"))\n",
    "    print(\"Sonuç:\", sayi1 * sayi2)\n",
    "elif islem == \"4\":\n",
    "    sayi1 = int(input(\"sayi1 giriniz: \"))\n",
    "    sayi2 = int(input(\"sayi2 giriniz: \"))\n",
    "    print(\"Sonuç:\", sayi1/sayi2)\n",
    "else:\n",
    "    print(\"geçersiz işlem girdiniz...\")"
   ]
  }
 ],
 "metadata": {
  "kernelspec": {
   "display_name": "Python 3 (ipykernel)",
   "language": "python",
   "name": "python3"
  },
  "language_info": {
   "codemirror_mode": {
    "name": "ipython",
    "version": 3
   },
   "file_extension": ".py",
   "mimetype": "text/x-python",
   "name": "python",
   "nbconvert_exporter": "python",
   "pygments_lexer": "ipython3",
   "version": "3.9.12"
  }
 },
 "nbformat": 4,
 "nbformat_minor": 5
}
